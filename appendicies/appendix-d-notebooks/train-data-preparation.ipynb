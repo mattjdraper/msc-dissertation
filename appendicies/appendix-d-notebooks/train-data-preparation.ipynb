{
 "cells": [
  {
   "cell_type": "markdown",
   "metadata": {},
   "source": [
    "## Generate Question Embedding Train Set"
   ]
  },
  {
   "cell_type": "code",
   "execution_count": 2,
   "metadata": {},
   "outputs": [],
   "source": [
    "# Generate dataset of successful 1-shot examples (1 instance per correct question)\n",
    "\n",
    "import glob\n",
    "import json\n",
    "import os\n",
    "\n",
    "# Get all 1-shot experiment results file paths\n",
    "pattern = os.path.join('chapter-3', 'results', 'spider', '**', '*results-[1].json')\n",
    "results = glob.glob(pattern, recursive=True)\n",
    "\n",
    "# Initialize a dictionary to store the embedding training examples.\n",
    "train_examples = []\n",
    "\n",
    "# Test all questions in all 1-shot experiments, obtaining one good example per question where possible\n",
    "for file_path in results:\n",
    "    \n",
    "    with open(file_path, 'r') as file:\n",
    "        data = json.load(file)\n",
    "\n",
    "        for question in data['questions']:\n",
    "            # If the example led to a correct answer, add it to the training set with a score of 1\n",
    "            if question['correct'] == 1:\n",
    "                train_examples.append({'sentence1': question['question'], \n",
    "                                         'sentence2': question['examples'][0]['question'],\n",
    "                                         'score': 1})\n",
    "            # If the example led to a wrong answer, add it to the training set with a score of 0\n",
    "            else:\n",
    "                train_examples.append({'sentence1': question['question'], \n",
    "                                         'sentence2': question['examples'][0]['question'],\n",
    "                                         'score': 0})\n",
    "                \n",
    "output_path = os.path.join('data', 'spider', 'train-sets', 'question-embedding-train-set.json') \n",
    "                \n",
    "with open(output_path, 'w') as output_file:\n",
    "    json.dump(train_examples, output_file, indent=4)"
   ]
  }
 ],
 "metadata": {
  "kernelspec": {
   "display_name": "base",
   "language": "python",
   "name": "python3"
  },
  "language_info": {
   "codemirror_mode": {
    "name": "ipython",
    "version": 3
   },
   "file_extension": ".py",
   "mimetype": "text/x-python",
   "name": "python",
   "nbconvert_exporter": "python",
   "pygments_lexer": "ipython3",
   "version": "3.11.7"
  }
 },
 "nbformat": 4,
 "nbformat_minor": 2
}
