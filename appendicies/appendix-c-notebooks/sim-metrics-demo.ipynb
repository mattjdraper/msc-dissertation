{
 "cells": [
  {
   "cell_type": "code",
   "execution_count": 2,
   "metadata": {},
   "outputs": [],
   "source": [
    "import os\n",
    "import json\n",
    "import nest_asyncio\n",
    "from tqdm import tqdm\n",
    "from utils.prompts.prompt_builder import prompt_factory\n",
    "from utils.data.data_builder import load_data\n",
    "from utils.llm.ask_llm import run_llm\n",
    "from third_party.spider_eval.evaluation import evaluate_spider\n",
    "from utils.data.post_process import save_results\n",
    "from utils.prompts.prompt_builder import get_openai_key\n",
    "\n",
    "from utils.utils import mask_query, jaccard_similarity, sql_similarity\n",
    "\n",
    "path_data = \"benchmarks\"\n",
    "\n",
    "data = load_data(\"spider\", path_data)"
   ]
  },
  {
   "cell_type": "code",
   "execution_count": 11,
   "metadata": {},
   "outputs": [
    {
     "name": "stdout",
     "output_type": "stream",
     "text": [
      "DAILSim: 1.0\n",
      "SQLSim: 1.0\n"
     ]
    }
   ],
   "source": [
    "# EXAMPLE 1\n",
    "\n",
    "dail1 = \"select count ( _ ) from _\"\n",
    "dail2 = \"select count ( _ ) from _\"\n",
    "print(\"DAILSim:\", jaccard_similarity(dail1, dail2))\n",
    "\n",
    "sql1 = \"SELECT count(*) FROM table1\"\n",
    "sql2 = \"SELECT count(*) FROM table1\"\n",
    "print(\"SQLSim:\", sql_similarity(sql1, sql2))"
   ]
  },
  {
   "cell_type": "code",
   "execution_count": 10,
   "metadata": {},
   "outputs": [
    {
     "name": "stdout",
     "output_type": "stream",
     "text": [
      "DAILSim: 1.0\n",
      "SQLSim: 0.9307692307692308\n"
     ]
    }
   ],
   "source": [
    "# EXAMPLE 2\n",
    "\n",
    "dail1 = \"select _ , count ( _ ) from _ group by _\"\n",
    "dail2 = \"select count ( _ ) , _ from _ group by _\"\n",
    "print(\"DAILSim:\", jaccard_similarity(dail1, dail2))\n",
    "\n",
    "sql1 = \"SELECT col1 , count(*) FROM table1 GROUP BY col1\"\n",
    "sql2 = \"SELECT count(*) , col1 FROM table1 GROUP BY col1\"\n",
    "print(\"SQLSim:\", sql_similarity(sql1, sql2))"
   ]
  },
  {
   "cell_type": "code",
   "execution_count": 9,
   "metadata": {},
   "outputs": [
    {
     "name": "stdout",
     "output_type": "stream",
     "text": [
      "DAILSim: 0.6666666666666666\n",
      "SQLSim: 0.39431818181818185\n"
     ]
    }
   ],
   "source": [
    "# EXAMPLE 3\n",
    "\n",
    "dail1 = \"select _ from _ order by _ desc\"\n",
    "dail2 = \"select _ from _ group by _\"\n",
    "print(\"DAILSim:\", jaccard_similarity(dail1, dail2))\n",
    "\n",
    "sql1 = \"SELECT count(*) FROM table1\"\n",
    "sql2 = \"SELECT col1 FROM table1 GROUP BY col1 HAVING count(*) >= num\"\n",
    "print(\"SQLSim:\", sql_similarity(sql1, sql2))"
   ]
  },
  {
   "cell_type": "code",
   "execution_count": null,
   "metadata": {},
   "outputs": [],
   "source": [
    "# EXAMPLE 4\n",
    "\n",
    "dail1 = \"select count(*) FROM _\"\n",
    "dail2 = \"select _ from _\"\n",
    "print(\"DAILSim:\", jaccard_similarity(dail1, dail2))\n",
    "\n",
    "sql1 = \"SELECT col1 , col2 , col3 FROM table1 ORDER BY col3 DESC\"\n",
    "sql2 = \"SELECT col1 , col2 , col3 FROM table1\"\n",
    "print(\"SQLSim:\", sql_similarity(sql1, sql2))"
   ]
  },
  {
   "cell_type": "code",
   "execution_count": 13,
   "metadata": {},
   "outputs": [
    {
     "name": "stdout",
     "output_type": "stream",
     "text": [
      "DAILSim: 0.6363636363636364\n",
      "SQLSim: 0.6269230769230769\n"
     ]
    }
   ],
   "source": [
    "# EXAMPLE 5\n",
    "\n",
    "dail1 = \"select count ( _ ) from _\"\n",
    "dail2 = \"select count ( _ ) from _ where _ = _\"\n",
    "print(\"DAILSim:\", jaccard_similarity(dail1, dail2))\n",
    "\n",
    "sql1 = \"SELECT count(*) FROM table1\"\n",
    "sql2 = \"SELECT count(*) FROM table1 WHERE col2 = num\"\n",
    "print(\"SQLSim:\", sql_similarity(sql1, sql2))"
   ]
  },
  {
   "cell_type": "code",
   "execution_count": 4,
   "metadata": {},
   "outputs": [
    {
     "name": "stdout",
     "output_type": "stream",
     "text": [
      "DAILSim: 0.4666666666666667\n",
      "SQLSim: 0.24666666666666648\n"
     ]
    }
   ],
   "source": [
    "# EXAMPLE 6\n",
    "\n",
    "dail1 = \"select count ( _ ) from _\"\n",
    "dail2 = \"select count ( _ ) from _ where _ group by _ dec limit _\"\n",
    "print(\"DAILSim:\", jaccard_similarity(dail1, dail2))\n",
    "\n",
    "sql1 = \"SELECT count(*) FROM table1\"\n",
    "sql2 = \"SELECT count(*) FROM table1 AS alias1 JOIN table2 AS alias2 ON alias1.col1 = alias2.col1 JOIN table3 AS alias3 ON alias2.col2 = alias3.col2 WHERE alias1.col3 = str AND alias3.col4 = str\"\n",
    "print(\"SQLSim:\", sql_similarity(sql1, sql2))"
   ]
  },
  {
   "cell_type": "code",
   "execution_count": 15,
   "metadata": {},
   "outputs": [
    {
     "name": "stdout",
     "output_type": "stream",
     "text": [
      "DAILSim: 0.38095238095238093\n",
      "SQLSim: 0.6421052631578947\n"
     ]
    }
   ],
   "source": [
    "# EXAMPLE 7\n",
    "\n",
    "dail1 = \"select avg ( _ ) , min ( _ ) , max ( _ ) from _ where _ = _\"\n",
    "dail2 = \"select _ from _ where _ = _\"\n",
    "print(\"DAILSim:\", jaccard_similarity(dail1, dail2))\n",
    "\n",
    "sql1 = \"SELECT avg(col1) , min(col1) , max(col1) FROM table1 WHERE col2 = str\"\n",
    "sql2 = \"SELECT col1 , col2 , col3 FROM table1 WHERE col4 = str\"\n",
    "print(\"SQLSim:\", sql_similarity(sql1, sql2))"
   ]
  },
  {
   "cell_type": "code",
   "execution_count": 16,
   "metadata": {},
   "outputs": [
    {
     "name": "stdout",
     "output_type": "stream",
     "text": [
      "DAILSim: 0.7\n",
      "SQLSim: 0.18171362852213915\n"
     ]
    }
   ],
   "source": [
    "# EXAMPLE 8\n",
    "\n",
    "dail1 = \"select distinct _ from _ where _ or _\"\n",
    "dail2 = \"select _ from _ where _ > _\"\n",
    "print(\"DAILSim:\", jaccard_similarity(dail1, dail2))\n",
    "\n",
    "sql1 = \"SELECT DISTINCT alias1.col1 FROM table1 AS alias1 JOIN table2 AS alias2 on alias1.col2 = alias2.col2 JOIN table3 AS alias3 ON alias3.col3 = alias2.col3 WHERE alias3.col4 = str OR alias3.col4 = str\"\n",
    "sql2 = \"SELECT col1 , col2 FROM table1 WHERE col3 > num\"\n",
    "print(\"SQLSim:\", sql_similarity(sql1, sql2))"
   ]
  }
 ],
 "metadata": {
  "kernelspec": {
   "display_name": "newenv",
   "language": "python",
   "name": "python3"
  },
  "language_info": {
   "codemirror_mode": {
    "name": "ipython",
    "version": 3
   },
   "file_extension": ".py",
   "mimetype": "text/x-python",
   "name": "python",
   "nbconvert_exporter": "python",
   "pygments_lexer": "ipython3",
   "version": "3.11.7"
  }
 },
 "nbformat": 4,
 "nbformat_minor": 2
}
