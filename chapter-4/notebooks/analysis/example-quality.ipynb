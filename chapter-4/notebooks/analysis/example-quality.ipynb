{
 "cells": [
  {
   "cell_type": "code",
   "execution_count": 1,
   "metadata": {},
   "outputs": [],
   "source": [
    "import json\n",
    "from utils.utils import mask_query, sql_similarity\n",
    "\n",
    "def calculate_mean_example_quality(file_path):\n",
    "    # Load the JSON file\n",
    "    with open(file_path, 'r') as file:\n",
    "        data = json.load(file)\n",
    "    \n",
    "    total_quality = 0\n",
    "    total_questions = len(data['questions'])\n",
    "    \n",
    "    for question in data['questions']:\n",
    "        example_qualities = []\n",
    "        for example in question['examples']:\n",
    "            masked_query = 'SELECT' + mask_query(question['response'])\n",
    "            masked_example_query = mask_query(example['query'])\n",
    "            quality = sql_similarity(masked_query, masked_example_query)\n",
    "            example_qualities.append(quality)\n",
    "        \n",
    "        mean_quality = sum(example_qualities) / len(example_qualities)\n",
    "        total_quality += mean_quality\n",
    "    \n",
    "    overall_mean_quality = total_quality / total_questions\n",
    "    return overall_mean_quality\n",
    "\n",
    "def add_pre_predictions(data, pre_predictions):\n",
    "    for i, question in enumerate(data['questions']):\n",
    "        question['pre_pred'] = pre_predictions[i]\n",
    "\n",
    "def calculate_mean_example_quality_with_pre_pred(file_path, pre_pred_file_path):\n",
    "    # Load the JSON file\n",
    "    with open(file_path, 'r') as file:\n",
    "        data = json.load(file)\n",
    "    \n",
    "    # Load the pre-predictions file\n",
    "    with open(pre_pred_file_path, 'r') as file:\n",
    "        pre_predictions = file.readlines()\n",
    "    \n",
    "    # Add pre-predictions to each question\n",
    "    add_pre_predictions(data, pre_predictions)\n",
    "    \n",
    "    total_quality = 0\n",
    "    total_questions = len(data['questions'])\n",
    "    \n",
    "    for question in data['questions']:\n",
    "        masked_pre_pred = mask_query(question['pre_pred'])\n",
    "        example_qualities = []\n",
    "        for example in question['examples']:\n",
    "            masked_example_query = mask_query(example['query'])\n",
    "            quality = sql_similarity(masked_pre_pred, masked_example_query)\n",
    "            example_qualities.append(quality)\n",
    "        \n",
    "        mean_quality = sum(example_qualities) / len(example_qualities)\n",
    "        total_quality += mean_quality\n",
    "    \n",
    "    overall_mean_quality = total_quality / total_questions\n",
    "    return overall_mean_quality\n",
    "\n",
    "pre_pred_file_path = 'data/spider/pre-predictions/DAIL-SQL+GPT-4.txt'\n"
   ]
  },
  {
   "cell_type": "code",
   "execution_count": 5,
   "metadata": {},
   "outputs": [
    {
     "name": "stdout",
     "output_type": "stream",
     "text": [
      "chapter-4\\results\\dail-sql-experiments\\1-shot\\DAIL-SQL-results-1.json 0.5809495285780415\n",
      "chapter-4\\results\\dail-sql-experiments\\3-shot\\DAIL-SQL-results-3.json 0.5709821713067054\n",
      "chapter-4\\results\\dail-sql-experiments\\5-shot\\DAIL-SQL-results-5.json 0.5663177927187479\n",
      "chapter-4\\results\\pred-sql-embedding-experiments\\1-shot\\pred-sql-embedding-results-1.json 0.7181801373497625\n",
      "chapter-4\\results\\pred-sql-embedding-experiments\\3-shot\\pred-sql-embedding-results-3.json 0.714853242879722\n",
      "chapter-4\\results\\pred-sql-embedding-experiments\\5-shot\\pred-sql-embedding-results-5.json 0.7114785308449041\n",
      "chapter-4\\results\\pred-sql-embedding-sft-experiments\\1-shot\\pred-sql-embedding-sft-results-1.json 0.7236028145181572\n",
      "chapter-4\\results\\pred-sql-embedding-sft-experiments\\3-shot\\pred-sql-embedding-sft-results-3.json 0.7206357202738566\n",
      "chapter-4\\results\\pred-sql-embedding-sft-experiments\\5-shot\\pred-sql-embedding-sft-results-5.json 0.7186995062438128\n",
      "chapter-4\\results\\pred-sql-manual-experiments\\1-shot\\pred-sql-manual-results-1.json 0.7240946180583095\n",
      "chapter-4\\results\\pred-sql-manual-experiments\\3-shot\\pred-sql-manual-results-3.json 0.7240005362000596\n",
      "chapter-4\\results\\pred-sql-manual-experiments\\5-shot\\pred-sql-manual-results-5.json 0.7224900447364209\n",
      "chapter-4\\results\\sql-embedding-experiments\\1-shot\\sql-embedding-results-1.json 0.8178203985435756\n",
      "chapter-4\\results\\sql-embedding-experiments\\3-shot\\sql-embedding-results-3.json 0.8112553697384134\n",
      "chapter-4\\results\\sql-embedding-experiments\\5-shot\\sql-embedding-results-5.json 0.8037431656856624\n",
      "chapter-4\\results\\sql-embedding-sft-experiments\\1-shot\\sql-embedding-sft-results-1.json 0.8292582285321796\n",
      "chapter-4\\results\\sql-embedding-sft-experiments\\3-shot\\sql-embedding-sft-results-3.json 0.8243959920504892\n",
      "chapter-4\\results\\sql-embedding-sft-experiments\\5-shot\\sql-embedding-sft-results-5.json 0.8204956112872228\n",
      "chapter-4\\results\\sql-manual-experiments\\1-shot\\sql-manual-results-1.json 0.8410988875191459\n",
      "chapter-4\\results\\sql-manual-experiments\\3-shot\\sql-manual-results-3.json 0.8376929828129273\n",
      "chapter-4\\results\\sql-manual-experiments\\5-shot\\sql-manual-results-5.json 0.8333958211605796\n"
     ]
    }
   ],
   "source": [
    "import glob\n",
    "import json\n",
    "import os\n",
    "\n",
    "# Retrieve all local json results-file paths from completed Spider runs.\n",
    "pattern = os.path.join('chapter-4','results', '**', '*results-[12345].json')\n",
    "#\n",
    "results = glob.glob(pattern, recursive=True)\n",
    "\n",
    "# Tally up how many of the 1034 Spider questions have been answered correctly\n",
    "\n",
    "for file_path in results:\n",
    "    print(file_path, calculate_mean_example_quality(file_path))"
   ]
  },
  {
   "cell_type": "code",
   "execution_count": 6,
   "metadata": {},
   "outputs": [
    {
     "name": "stdout",
     "output_type": "stream",
     "text": [
      "chapter-4\\results\\pred-sql-embedding-experiments\\1-shot\\pred-sql-embedding-results-1.json 0.8894952242639994\n",
      "chapter-4\\results\\pred-sql-embedding-experiments\\3-shot\\pred-sql-embedding-results-3.json 0.8821447595679632\n",
      "chapter-4\\results\\pred-sql-embedding-experiments\\5-shot\\pred-sql-embedding-results-5.json 0.8744763186218926\n",
      "chapter-4\\results\\pred-sql-embedding-sft-experiments\\1-shot\\pred-sql-embedding-sft-results-1.json 0.9011713056681382\n",
      "chapter-4\\results\\pred-sql-embedding-sft-experiments\\3-shot\\pred-sql-embedding-sft-results-3.json 0.8944743384359465\n",
      "chapter-4\\results\\pred-sql-embedding-sft-experiments\\5-shot\\pred-sql-embedding-sft-results-5.json 0.8878335416508711\n",
      "chapter-4\\results\\pred-sql-manual-experiments\\1-shot\\pred-sql-manual-results-1.json 0.924626718370768\n",
      "chapter-4\\results\\pred-sql-manual-experiments\\3-shot\\pred-sql-manual-results-3.json 0.9195034775490986\n",
      "chapter-4\\results\\pred-sql-manual-experiments\\5-shot\\pred-sql-manual-results-5.json 0.9136036552510602\n"
     ]
    }
   ],
   "source": [
    "import glob\n",
    "import json\n",
    "import os\n",
    "\n",
    "# Retrieve all json results-file paths from Chapter 4 pre-prediction experiments.\n",
    "pattern = os.path.join('chapter-4','results', '**', 'pred*results-[12345].json')\n",
    "\n",
    "results = glob.glob(pattern, recursive=True)\n",
    "\n",
    "for file_path in results:\n",
    "    print(file_path, calculate_mean_example_quality_with_pre_pred(file_path, pre_pred_file_path))"
   ]
  },
  {
   "cell_type": "code",
   "execution_count": 4,
   "metadata": {},
   "outputs": [
    {
     "name": "stdout",
     "output_type": "stream",
     "text": [
      "chapter-4\\results\\dail-sql-experiments\\1-shot\\DAIL-SQL-results-1.json 0.5809495285780415\n",
      "chapter-4\\results\\dail-sql-experiments\\3-shot\\DAIL-SQL-results-3.json 0.5708549699029082\n",
      "chapter-4\\results\\dail-sql-experiments\\5-shot\\DAIL-SQL-results-5.json 0.5663134944165773\n"
     ]
    }
   ],
   "source": [
    "import glob\n",
    "import json\n",
    "import os\n",
    "\n",
    "# Retrieve all local json results-file paths from completed Spider runs.\n",
    "pattern = os.path.join('chapter-4','results', '**', 'DAIL*results-[12345].json')\n",
    "#\n",
    "results = glob.glob(pattern, recursive=True)\n",
    "\n",
    "# Tally up how many of the 1034 Spider questions have been answered correctly\n",
    "\n",
    "for file_path in results:\n",
    "    print(file_path, calculate_mean_example_quality(file_path))"
   ]
  }
 ],
 "metadata": {
  "kernelspec": {
   "display_name": "base",
   "language": "python",
   "name": "python3"
  },
  "language_info": {
   "codemirror_mode": {
    "name": "ipython",
    "version": 3
   },
   "file_extension": ".py",
   "mimetype": "text/x-python",
   "name": "python",
   "nbconvert_exporter": "python",
   "pygments_lexer": "ipython3",
   "version": "3.11.7"
  }
 },
 "nbformat": 4,
 "nbformat_minor": 2
}
