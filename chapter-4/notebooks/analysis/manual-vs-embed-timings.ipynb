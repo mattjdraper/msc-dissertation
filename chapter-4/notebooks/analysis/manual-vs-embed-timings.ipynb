{
 "cells": [
  {
   "cell_type": "markdown",
   "metadata": {},
   "source": [
    "# Time Manual Selector"
   ]
  },
  {
   "cell_type": "code",
   "execution_count": 6,
   "metadata": {},
   "outputs": [],
   "source": [
    "import os\n",
    "import time\n",
    "from tqdm import tqdm\n",
    "from utils.prompts.prompt_builder import prompt_factory\n",
    "from utils.data.data_builder import load_data\n",
    "\n",
    "path_data = \"benchmarks\"\n",
    "\n",
    "data = load_data(\"spider\", path_data)"
   ]
  },
  {
   "cell_type": "code",
   "execution_count": 13,
   "metadata": {},
   "outputs": [],
   "source": [
    "prompt = prompt_factory(k_shot = 1, repr_type= \"SQL\", example_format= \"QA\", selector_type= \"MANUALSQL\")(data=data, tokenizer=\"gpt-3.5-turbo\")"
   ]
  },
  {
   "cell_type": "code",
   "execution_count": 14,
   "metadata": {},
   "outputs": [
    {
     "name": "stderr",
     "output_type": "stream",
     "text": [
      "  1%|          | 9/1034 [12:20<23:25:44, 82.29s/it]"
     ]
    },
    {
     "name": "stdout",
     "output_type": "stream",
     "text": [
      "Execution time: 749.9525678157806 seconds\n"
     ]
    },
    {
     "name": "stderr",
     "output_type": "stream",
     "text": [
      "\n"
     ]
    }
   ],
   "source": [
    "# Format all Spider test questions for 1-Shot GPT-3.5-Turbo Text-to-SQL conversion\n",
    "\n",
    "questions = list()\n",
    "start_time = time.time()\n",
    "\n",
    "for i, question_json in enumerate(tqdm(getattr(data, \"get_test_json\")()), start=1):\n",
    "    question_format = prompt.format(index=i,\n",
    "                                    target=question_json,\n",
    "                                    max_seq_len=2048,\n",
    "                                    max_ans_len=200,\n",
    "                                    scope_factor=1,\n",
    "                                    cross_domain=False)\n",
    "    questions.append(question_format)\n",
    "    if i == 10: break\n",
    "\n",
    "end_time = time.time()\n",
    "print(f\"Execution time: {end_time - start_time} seconds\")"
   ]
  },
  {
   "cell_type": "markdown",
   "metadata": {},
   "source": [
    "# Time Embedding Selector"
   ]
  },
  {
   "cell_type": "code",
   "execution_count": 7,
   "metadata": {},
   "outputs": [],
   "source": [
    "EMBEDDING = \"all-mpnet-base-v2\""
   ]
  },
  {
   "cell_type": "code",
   "execution_count": 8,
   "metadata": {},
   "outputs": [
    {
     "name": "stderr",
     "output_type": "stream",
     "text": [
      "d:\\submission\\newenv\\Lib\\site-packages\\transformers\\tokenization_utils_base.py:1601: FutureWarning: `clean_up_tokenization_spaces` was not set. It will be set to `True` by default. This behavior will be depracted in transformers v4.45, and will be then set to `False` by default. For more details check this issue: https://github.com/huggingface/transformers/issues/31884\n",
      "  warnings.warn(\n"
     ]
    }
   ],
   "source": [
    "prompt = prompt_factory(k_shot = 1, repr_type= \"SQL\", example_format= \"QA\", selector_type= \"EMBEDSQL\", embedding_model= EMBEDDING)(data=data, tokenizer=\"gpt-3.5-turbo\")"
   ]
  },
  {
   "cell_type": "code",
   "execution_count": 11,
   "metadata": {},
   "outputs": [
    {
     "name": "stderr",
     "output_type": "stream",
     "text": [
      "  1%|          | 9/1034 [00:01<03:05,  5.51it/s]"
     ]
    },
    {
     "name": "stdout",
     "output_type": "stream",
     "text": [
      "Execution time: 7.3076348304748535 seconds\n"
     ]
    },
    {
     "name": "stderr",
     "output_type": "stream",
     "text": [
      "\n"
     ]
    }
   ],
   "source": [
    "# Format all Spider test questions for 1-Shot GPT-3.5-Turbo Text-to-SQL conversion\n",
    "questions = list()\n",
    "start_time = time.time()\n",
    "\n",
    "for i, question_json in enumerate(tqdm(getattr(data, \"get_test_json\")()), start=1):\n",
    "    question_format = prompt.format(index=i,\n",
    "                                    target=question_json,\n",
    "                                    max_seq_len=2048,\n",
    "                                    max_ans_len=200,\n",
    "                                    scope_factor=1,\n",
    "                                    cross_domain=False)\n",
    "    questions.append(question_format)\n",
    "    if i == 10: break\n",
    "    \n",
    "end_time = time.time()\n",
    "print(f\"Execution time: {end_time - start_time} seconds\")"
   ]
  }
 ],
 "metadata": {
  "kernelspec": {
   "display_name": "newenv",
   "language": "python",
   "name": "python3"
  },
  "language_info": {
   "codemirror_mode": {
    "name": "ipython",
    "version": 3
   },
   "file_extension": ".py",
   "mimetype": "text/x-python",
   "name": "python",
   "nbconvert_exporter": "python",
   "pygments_lexer": "ipython3",
   "version": "3.11.7"
  }
 },
 "nbformat": 4,
 "nbformat_minor": 2
}
