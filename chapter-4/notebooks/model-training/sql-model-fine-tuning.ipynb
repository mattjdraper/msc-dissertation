{
 "cells": [
  {
   "cell_type": "code",
   "execution_count": null,
   "metadata": {},
   "outputs": [],
   "source": [
    "from sentence_transformers import SentenceTransformer, SentenceTransformerTrainer, losses, SentenceTransformerTrainingArguments\n",
    "from sentence_transformers.training_args import BatchSamplers\n",
    "from datasets import Dataset\n",
    "import json\n",
    "import os\n",
    "\n",
    "base_embedding = \"sentence-transformers/all-mpnet-base-v2\"\n",
    "output_path = \"models/sft-sql-embedding\"\n",
    "train_path = 'data/spider/train-sets/sql-embedding-train-set.json'\n",
    "\n",
    "model = SentenceTransformer(base_embedding)\n",
    "\n",
    "args = SentenceTransformerTrainingArguments(\n",
    "    # Required parameter:\n",
    "    output_dir=\"models/mpnet-base-spider\",\n",
    "    # Optional training parameters:\n",
    "    num_train_epochs=8,\n",
    "    per_device_train_batch_size=160,\n",
    "    learning_rate=2e-5,\n",
    "    warmup_ratio=0.2,#\n",
    "    fp16=True, \n",
    "    bf16=False,  \n",
    "    batch_sampler=BatchSamplers.NO_DUPLICATES,  \n",
    "    # Optional tracking/debugging parameters:\n",
    "    save_strategy=\"steps\",\n",
    "    save_steps=200,\n",
    "    save_total_limit=2,  \n",
    "    logging_steps=100, \n",
    "    run_name=\"mpnet-base-spider\",\n",
    "    dataloader_num_workers=16, \n",
    ")\n",
    "\n",
    "with open(train_path, 'r') as file:\n",
    "    train = json.load(file)\n",
    "\n",
    "num_train_samples = 300000\n",
    "\n",
    "sentence1s = [entry[\"sentence1\"] for entry in train[0:num_train_samples]]\n",
    "sentence2s = [entry[\"sentence2\"] for entry in train[0:num_train_samples]]\n",
    "scores = [entry[\"score\"] for entry in train[0:num_train_samples]]\n",
    "\n",
    "embedding_train_dataset = Dataset.from_dict({\n",
    "    'sentence1': sentence1s,\n",
    "    'sentence2': sentence2s,\n",
    "    'score': scores\n",
    "})\n",
    "\n",
    "loss = losses.CoSENTLoss(model)\n",
    "\n",
    "trainer = SentenceTransformerTrainer(model=model,\n",
    "                                     args=args,\n",
    "                                     loss=loss,\n",
    "                                     train_dataset=embedding_train_dataset)\n",
    "\n",
    "trainer.train()\n",
    "\n",
    "model.save_pretrained(output_path)"
   ]
  },
  {
   "cell_type": "code",
   "execution_count": 7,
   "metadata": {},
   "outputs": [
    {
     "data": {
      "application/vnd.jupyter.widget-view+json": {
       "model_id": "e07fbdb4b3354801987c4f27436c56df",
       "version_major": 2,
       "version_minor": 0
      },
      "text/plain": [
       "model.safetensors:   0%|          | 0.00/438M [00:00<?, ?B/s]"
      ]
     },
     "metadata": {},
     "output_type": "display_data"
    },
    {
     "data": {
      "text/plain": [
       "'https://huggingface.co/s2593817/sft-sql-embedding/commit/c89964f560f060f20de7c731dc274b0bc77d785a'"
      ]
     },
     "execution_count": 7,
     "metadata": {},
     "output_type": "execute_result"
    }
   ],
   "source": [
    "# Push the trained SQL embedding model to Hugging Face\n",
    "from sentence_transformers import SentenceTransformer\n",
    "model = SentenceTransformer(\"models/sft-sql-embedding\")\n",
    "model.push_to_hub(\"sft-sql-embedding\")"
   ]
  }
 ],
 "metadata": {
  "kernelspec": {
   "display_name": "base",
   "language": "python",
   "name": "python3"
  },
  "language_info": {
   "codemirror_mode": {
    "name": "ipython",
    "version": 3
   },
   "file_extension": ".py",
   "mimetype": "text/x-python",
   "name": "python",
   "nbconvert_exporter": "python",
   "pygments_lexer": "ipython3",
   "version": "3.11.7"
  }
 },
 "nbformat": 4,
 "nbformat_minor": 2
}
